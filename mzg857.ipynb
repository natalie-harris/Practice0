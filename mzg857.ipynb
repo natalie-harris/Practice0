{
  "cells": [
    {
      "cell_type": "markdown",
      "metadata": {
        "colab_type": "text",
        "id": "view-in-github"
      },
      "source": [
        "<a href=\"https://colab.research.google.com/github/fdac24/Practice0/blob/main/Practice0.ipynb\" target=\"_parent\"><img src=\"https://colab.research.google.com/assets/colab-badge.svg\" alt=\"Open In Colab\"/></a>"
      ]
    },
    {
      "cell_type": "code",
      "execution_count": 1,
      "metadata": {
        "colab": {
          "base_uri": "https://localhost:8080/"
        },
        "id": "ifSoLXLTVtm0",
        "outputId": "772413bb-6118-4280-ecad-c52cc0e9fbe7"
      },
      "outputs": [
        {
          "name": "stdout",
          "output_type": "stream",
          "text": [
            "Requirement already satisfied: pip in /home/natalie/Coding/Fall24Classes/digital_archaeology/venv/lib64/python3.11/site-packages (24.2)\n",
            "Note: you may need to restart the kernel to use updated packages.\n",
            "Requirement already satisfied: pymongo in /home/natalie/Coding/Fall24Classes/digital_archaeology/venv/lib64/python3.11/site-packages (4.8.0)\n",
            "Requirement already satisfied: pandas in /home/natalie/Coding/Fall24Classes/digital_archaeology/venv/lib64/python3.11/site-packages (2.2.2)\n",
            "Requirement already satisfied: numpy in /home/natalie/Coding/Fall24Classes/digital_archaeology/venv/lib64/python3.11/site-packages (2.1.0)\n",
            "Requirement already satisfied: scipy in /home/natalie/Coding/Fall24Classes/digital_archaeology/venv/lib64/python3.11/site-packages (1.14.1)\n",
            "Requirement already satisfied: matplotlib in /home/natalie/Coding/Fall24Classes/digital_archaeology/venv/lib64/python3.11/site-packages (3.9.2)\n",
            "Requirement already satisfied: bs4 in /home/natalie/Coding/Fall24Classes/digital_archaeology/venv/lib64/python3.11/site-packages (0.0.2)\n",
            "Requirement already satisfied: nltk in /home/natalie/Coding/Fall24Classes/digital_archaeology/venv/lib64/python3.11/site-packages (3.9.1)\n",
            "Requirement already satisfied: dnspython<3.0.0,>=1.16.0 in /home/natalie/Coding/Fall24Classes/digital_archaeology/venv/lib64/python3.11/site-packages (from pymongo) (2.6.1)\n",
            "Requirement already satisfied: python-dateutil>=2.8.2 in /home/natalie/Coding/Fall24Classes/digital_archaeology/venv/lib64/python3.11/site-packages (from pandas) (2.9.0.post0)\n",
            "Requirement already satisfied: pytz>=2020.1 in /home/natalie/Coding/Fall24Classes/digital_archaeology/venv/lib64/python3.11/site-packages (from pandas) (2024.1)\n",
            "Requirement already satisfied: tzdata>=2022.7 in /home/natalie/Coding/Fall24Classes/digital_archaeology/venv/lib64/python3.11/site-packages (from pandas) (2024.1)\n",
            "Requirement already satisfied: contourpy>=1.0.1 in /home/natalie/Coding/Fall24Classes/digital_archaeology/venv/lib64/python3.11/site-packages (from matplotlib) (1.2.1)\n",
            "Requirement already satisfied: cycler>=0.10 in /home/natalie/Coding/Fall24Classes/digital_archaeology/venv/lib64/python3.11/site-packages (from matplotlib) (0.12.1)\n",
            "Requirement already satisfied: fonttools>=4.22.0 in /home/natalie/Coding/Fall24Classes/digital_archaeology/venv/lib64/python3.11/site-packages (from matplotlib) (4.53.1)\n",
            "Requirement already satisfied: kiwisolver>=1.3.1 in /home/natalie/Coding/Fall24Classes/digital_archaeology/venv/lib64/python3.11/site-packages (from matplotlib) (1.4.5)\n",
            "Requirement already satisfied: packaging>=20.0 in /home/natalie/Coding/Fall24Classes/digital_archaeology/venv/lib64/python3.11/site-packages (from matplotlib) (24.1)\n",
            "Requirement already satisfied: pillow>=8 in /home/natalie/Coding/Fall24Classes/digital_archaeology/venv/lib64/python3.11/site-packages (from matplotlib) (10.4.0)\n",
            "Requirement already satisfied: pyparsing>=2.3.1 in /home/natalie/Coding/Fall24Classes/digital_archaeology/venv/lib64/python3.11/site-packages (from matplotlib) (3.1.2)\n",
            "Requirement already satisfied: beautifulsoup4 in /home/natalie/Coding/Fall24Classes/digital_archaeology/venv/lib64/python3.11/site-packages (from bs4) (4.12.3)\n",
            "Requirement already satisfied: click in /home/natalie/Coding/Fall24Classes/digital_archaeology/venv/lib64/python3.11/site-packages (from nltk) (8.1.7)\n",
            "Requirement already satisfied: joblib in /home/natalie/Coding/Fall24Classes/digital_archaeology/venv/lib64/python3.11/site-packages (from nltk) (1.4.2)\n",
            "Requirement already satisfied: regex>=2021.8.3 in /home/natalie/Coding/Fall24Classes/digital_archaeology/venv/lib64/python3.11/site-packages (from nltk) (2024.7.24)\n",
            "Requirement already satisfied: tqdm in /home/natalie/Coding/Fall24Classes/digital_archaeology/venv/lib64/python3.11/site-packages (from nltk) (4.66.5)\n",
            "Requirement already satisfied: six>=1.5 in /home/natalie/Coding/Fall24Classes/digital_archaeology/venv/lib64/python3.11/site-packages (from python-dateutil>=2.8.2->pandas) (1.16.0)\n",
            "Requirement already satisfied: soupsieve>1.2 in /home/natalie/Coding/Fall24Classes/digital_archaeology/venv/lib64/python3.11/site-packages (from beautifulsoup4->bs4) (2.6)\n",
            "Note: you may need to restart the kernel to use updated packages.\n"
          ]
        }
      ],
      "source": [
        "%pip install --upgrade pip\n",
        "%pip install pymongo pandas numpy scipy matplotlib bs4 nltk"
      ]
    },
    {
      "cell_type": "code",
      "execution_count": 2,
      "metadata": {
        "colab": {
          "base_uri": "https://localhost:8080/"
        },
        "id": "UVLRNFSvVajV",
        "outputId": "895554ae-1639-45f8-e392-1e1e050c5b58"
      },
      "outputs": [
        {
          "name": "stdout",
          "output_type": "stream",
          "text": [
            "IPython version:      %6.6s 8.26.0\n"
          ]
        }
      ],
      "source": [
        "import IPython\n",
        "import json\n",
        "# Numpy is a library for working with Arrays\n",
        "import numpy as np\n",
        "# SciPy implements many different numerical algorithms\n",
        "import scipy as sp\n",
        "# Pandas is good with data tables\n",
        "import pandas as pd\n",
        "# Module for plotting\n",
        "import matplotlib\n",
        "#BeautifulSoup parses HTML documents (once you get them via requests)\n",
        "import bs4\n",
        "# Nltk helps with some natural language tasks, like stemming\n",
        "import nltk\n",
        "# Bson is a binary format of json to be stored in databases\n",
        "import bson\n",
        "# Mongo is one of common nosql databases\n",
        "# it stores/searches json documents natively\n",
        "import pymongo\n",
        "print (\"IPython version:      %6.6s\", IPython.__version__)"
      ]
    },
    {
      "cell_type": "code",
      "execution_count": 3,
      "metadata": {
        "colab": {
          "base_uri": "https://localhost:8080/"
        },
        "id": "crZEbnGxVajW",
        "outputId": "21c2a63c-4200-4051-f05a-9383e9ae5742"
      },
      "outputs": [
        {
          "name": "stdout",
          "output_type": "stream",
          "text": [
            "Make a 2 row x 3 column array of random numbers\n",
            "[[0.60494761 0.09713872 0.45539346]\n",
            " [0.58927676 0.59364004 0.47556184]]\n",
            "Add 5 to every element\n",
            "[[5.60494761 5.09713872 5.45539346]\n",
            " [5.58927676 5.59364004 5.47556184]]\n",
            "Get the first row\n",
            "[5.60494761 5.09713872 5.45539346]\n"
          ]
        }
      ],
      "source": [
        "#Here is what numpy can do\\n\",\n",
        "print (\"Make a 2 row x 3 column array of random numbers\")\n",
        "x = np.random.random((2, 3))\n",
        "print (x)\n",
        "\n",
        "#array operation (as in R)\n",
        "print (\"Add 5 to every element\")\n",
        "x = x + 5\n",
        "print (x)\n",
        "\n",
        "# get a slice (first row) (as in R)\n",
        "print (\"Get the first row\")\n",
        "print (x[0, :])"
      ]
    },
    {
      "cell_type": "code",
      "execution_count": 7,
      "metadata": {
        "colab": {
          "base_uri": "https://localhost:8080/"
        },
        "id": "vTcScKSNVajW",
        "outputId": "97a13fbc-c4e0-40af-8d50-c0ae42d0dce5"
      },
      "outputs": [
        {
          "data": {
            "text/plain": [
              "np.True_"
            ]
          },
          "execution_count": 7,
          "metadata": {},
          "output_type": "execute_result"
        }
      ],
      "source": [
        "# IPython is quite modern: just press <TAB> at the end of the unfinished statement to see the documentation\n",
        "#       on possible completions.\n",
        "#       In the code cell below, type x.<TAB>, to find built-in operations for x\n",
        "x.any()"
      ]
    },
    {
      "cell_type": "code",
      "execution_count": 8,
      "metadata": {
        "colab": {
          "base_uri": "https://localhost:8080/",
          "height": 430
        },
        "id": "8DbGahJeVajX",
        "outputId": "eeb154d7-edb8-4fa5-e454-1bf961532e33"
      },
      "outputs": [
        {
          "data": {
            "image/png": "[encoded data removed]",
            "text/plain": [
              "<Figure size 640x480 with 1 Axes>"
            ]
          },
          "metadata": {},
          "output_type": "display_data"
        }
      ],
      "source": [
        "%matplotlib inline\n",
        "import matplotlib.pyplot as plt\n",
        "heads = np.random.binomial(500, .5, size=500)\n",
        "histogram = plt.hist(heads, bins=10)"
      ]
    },
    {
      "cell_type": "markdown",
      "metadata": {
        "collapsed": true,
        "id": "Cx0S6PAiVajX"
      },
      "source": [
        "# Task 1\n",
        "## write a program to produce Fibonacci numbers up to 1000000"
      ]
    },
    {
      "cell_type": "code",
      "execution_count": 15,
      "metadata": {
        "collapsed": true,
        "id": "AaeuGAGDVajY"
      },
      "outputs": [
        {
          "name": "stdout",
          "output_type": "stream",
          "text": [
            "[0, 1, 1, 2, 3, 5, 8, 13, 21, 34, 55, 89, 144, 233, 377, 610, 987, 1597, 2584, 4181, 6765, 10946, 17711, 28657, 46368, 75025, 121393, 196418, 317811, 514229, 832040]\n"
          ]
        }
      ],
      "source": [
        "fibonacci_numbers = [0, 1]\n",
        "\n",
        "sum = fibonacci_numbers[-1] + fibonacci_numbers[-2]\n",
        "while sum < 1000000:\n",
        "    fibonacci_numbers.append(sum)\n",
        "    sum = fibonacci_numbers[-1] + fibonacci_numbers[-2]\n",
        "\n",
        "print(fibonacci_numbers)"
      ]
    },
    {
      "cell_type": "markdown",
      "metadata": {
        "id": "z9gy1-EaVajZ"
      },
      "source": [
        "# Task 2\n",
        "## write a program to simulate 1000 tosses of a fair coin (use np.random.binomial)\n",
        "## Calculate the mean and standard deviation of that sample"
      ]
    },
    {
      "cell_type": "code",
      "execution_count": 37,
      "metadata": {
        "collapsed": true,
        "id": "7wXnhcIHVajZ"
      },
      "outputs": [],
      "source": [
        "n, p, k = 1, .5, 1000\n",
        "successes = np.random.binomial(n, p, k)\n",
        "mean = n * p * k\n",
        "std = successes.std()"
      ]
    },
    {
      "cell_type": "markdown",
      "metadata": {
        "id": "3ug709otVajZ"
      },
      "source": [
        "# Task 3\n",
        "## Produce a scatterplot of y = 0.5*x+e where x has gaussian (0, 5) and e has gaussian (0, 1) distributions\n",
        "### use numpy.random.normal to generate gaussian distribution"
      ]
    },
    {
      "cell_type": "code",
      "execution_count": 34,
      "metadata": {
        "collapsed": true,
        "id": "GxrcF0NvVaja"
      },
      "outputs": [
        {
          "data": {
            "image/png": "[encoded data removed]",
            "text/plain": [
              "<Figure size 640x480 with 1 Axes>"
            ]
          },
          "metadata": {},
          "output_type": "display_data"
        }
      ],
      "source": [
        "x = np.random.normal(0, 5, 1000)\n",
        "e = np.random.normal(0, 1, 1000)\n",
        "y = 0.5*x+e\n",
        "plt = matplotlib.pyplot.scatter(x, y)"
      ]
    },
    {
      "cell_type": "code",
      "execution_count": null,
      "metadata": {},
      "outputs": [],
      "source": []
    }
  ],
  "metadata": {
    "colab": {
      "include_colab_link": true,
      "provenance": []
    },
    "kernelspec": {
      "display_name": "Python 3",
      "language": "python",
      "name": "python3"
    },
    "language_info": {
      "codemirror_mode": {
        "name": "ipython",
        "version": 3
      },
      "file_extension": ".py",
      "mimetype": "text/x-python",
      "name": "python",
      "nbconvert_exporter": "python",
      "pygments_lexer": "ipython3",
      "version": "3.11.9"
    }
  },
  "nbformat": 4,
  "nbformat_minor": 0
}
